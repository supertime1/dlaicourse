{
  "nbformat": 4,
  "nbformat_minor": 0,
  "metadata": {
    "accelerator": "GPU",
    "colab": {
      "name": "Tensorflow Hub",
      "provenance": [],
      "collapsed_sections": [],
      "include_colab_link": true
    },
    "coursera": {
      "course_slug": "advanced-deployment-scenarios-tensorflow",
      "graded_item_id": "fwoZ8",
      "launcher_item_id": "bBHO2"
    },
    "kernelspec": {
      "display_name": "Python 3",
      "language": "python",
      "name": "python3"
    },
    "language_info": {
      "codemirror_mode": {
        "name": "ipython",
        "version": 3
      },
      "file_extension": ".py",
      "mimetype": "text/x-python",
      "name": "python",
      "nbconvert_exporter": "python",
      "pygments_lexer": "ipython3",
      "version": "3.6.8"
    }
  },
  "cells": [
    {
      "cell_type": "markdown",
      "metadata": {
        "id": "view-in-github",
        "colab_type": "text"
      },
      "source": [
        "<a href=\"https://colab.research.google.com/github/supertime1/dlaicourse/blob/master/Tensorflow_Hub.ipynb\" target=\"_parent\"><img src=\"https://colab.research.google.com/assets/colab-badge.svg\" alt=\"Open In Colab\"/></a>"
      ]
    },
    {
      "cell_type": "markdown",
      "metadata": {
        "colab_type": "text",
        "id": "ALCxPdSdX3NU"
      },
      "source": [
        "# Exporting an MNIST Classifier in SavedModel Format\n",
        "\n",
        "In this exercise, we will learn on how to create models for TensorFlow Hub. You will be tasked with performing the following tasks:\n",
        "\n",
        "*   Creating a simple MNIST classifier and evaluating its accuracy.\n",
        "*   Exporting it into SavedModel.\n",
        "*   Hosting the model as TF Hub Module.\n",
        "*   Importing this TF Hub Module to be used with Keras Layers."
      ]
    },
    {
      "cell_type": "code",
      "metadata": {
        "colab_type": "code",
        "id": "swaA66rjiRTd",
        "colab": {}
      },
      "source": [
        "import numpy as np\n",
        "import tensorflow as tf\n",
        "import tensorflow_hub as hub\n",
        "import tensorflow_datasets as tfds\n",
        "\n",
        "from os import getcwd"
      ],
      "execution_count": 0,
      "outputs": []
    },
    {
      "cell_type": "code",
      "metadata": {
        "id": "-ZrQVKYmHby7",
        "colab_type": "code",
        "outputId": "2e6a00d9-5645-4103-b0ef-389e032109ae",
        "colab": {
          "base_uri": "https://localhost:8080/",
          "height": 34
        }
      },
      "source": [
        "print(tf.__version__)"
      ],
      "execution_count": 0,
      "outputs": [
        {
          "output_type": "stream",
          "text": [
            "2.0.0\n"
          ],
          "name": "stdout"
        }
      ]
    },
    {
      "cell_type": "code",
      "metadata": {
        "id": "XlJYgqoyDFMC",
        "colab_type": "code",
        "outputId": "cf956f16-81a7-403d-fb86-d5c7096d3f86",
        "colab": {
          "base_uri": "https://localhost:8080/",
          "height": 990
        }
      },
      "source": [
        "!pip install tensorflow==2.0.0"
      ],
      "execution_count": 0,
      "outputs": [
        {
          "output_type": "stream",
          "text": [
            "Collecting tensorflow==2.0.0\n",
            "\u001b[?25l  Downloading https://files.pythonhosted.org/packages/46/0f/7bd55361168bb32796b360ad15a25de6966c9c1beb58a8e30c01c8279862/tensorflow-2.0.0-cp36-cp36m-manylinux2010_x86_64.whl (86.3MB)\n",
            "\u001b[K     |████████████████████████████████| 86.3MB 51kB/s \n",
            "\u001b[?25hRequirement already satisfied: termcolor>=1.1.0 in /usr/local/lib/python3.6/dist-packages (from tensorflow==2.0.0) (1.1.0)\n",
            "Requirement already satisfied: grpcio>=1.8.6 in /usr/local/lib/python3.6/dist-packages (from tensorflow==2.0.0) (1.27.1)\n",
            "Requirement already satisfied: gast==0.2.2 in /usr/local/lib/python3.6/dist-packages (from tensorflow==2.0.0) (0.2.2)\n",
            "Requirement already satisfied: keras-preprocessing>=1.0.5 in /usr/local/lib/python3.6/dist-packages (from tensorflow==2.0.0) (1.1.0)\n",
            "Requirement already satisfied: keras-applications>=1.0.8 in /usr/local/lib/python3.6/dist-packages (from tensorflow==2.0.0) (1.0.8)\n",
            "Requirement already satisfied: protobuf>=3.6.1 in /usr/local/lib/python3.6/dist-packages (from tensorflow==2.0.0) (3.10.0)\n",
            "Requirement already satisfied: opt-einsum>=2.3.2 in /usr/local/lib/python3.6/dist-packages (from tensorflow==2.0.0) (3.1.0)\n",
            "Requirement already satisfied: six>=1.10.0 in /usr/local/lib/python3.6/dist-packages (from tensorflow==2.0.0) (1.12.0)\n",
            "Requirement already satisfied: numpy<2.0,>=1.16.0 in /usr/local/lib/python3.6/dist-packages (from tensorflow==2.0.0) (1.17.5)\n",
            "Requirement already satisfied: astor>=0.6.0 in /usr/local/lib/python3.6/dist-packages (from tensorflow==2.0.0) (0.8.1)\n",
            "Requirement already satisfied: wheel>=0.26 in /usr/local/lib/python3.6/dist-packages (from tensorflow==2.0.0) (0.34.2)\n",
            "Collecting tensorboard<2.1.0,>=2.0.0\n",
            "\u001b[?25l  Downloading https://files.pythonhosted.org/packages/76/54/99b9d5d52d5cb732f099baaaf7740403e83fe6b0cedde940fabd2b13d75a/tensorboard-2.0.2-py3-none-any.whl (3.8MB)\n",
            "\u001b[K     |████████████████████████████████| 3.8MB 54.6MB/s \n",
            "\u001b[?25hRequirement already satisfied: wrapt>=1.11.1 in /usr/local/lib/python3.6/dist-packages (from tensorflow==2.0.0) (1.11.2)\n",
            "Collecting tensorflow-estimator<2.1.0,>=2.0.0\n",
            "\u001b[?25l  Downloading https://files.pythonhosted.org/packages/fc/08/8b927337b7019c374719145d1dceba21a8bb909b93b1ad6f8fb7d22c1ca1/tensorflow_estimator-2.0.1-py2.py3-none-any.whl (449kB)\n",
            "\u001b[K     |████████████████████████████████| 450kB 53.8MB/s \n",
            "\u001b[?25hRequirement already satisfied: google-pasta>=0.1.6 in /usr/local/lib/python3.6/dist-packages (from tensorflow==2.0.0) (0.1.8)\n",
            "Requirement already satisfied: absl-py>=0.7.0 in /usr/local/lib/python3.6/dist-packages (from tensorflow==2.0.0) (0.9.0)\n",
            "Requirement already satisfied: h5py in /usr/local/lib/python3.6/dist-packages (from keras-applications>=1.0.8->tensorflow==2.0.0) (2.8.0)\n",
            "Requirement already satisfied: setuptools in /usr/local/lib/python3.6/dist-packages (from protobuf>=3.6.1->tensorflow==2.0.0) (45.1.0)\n",
            "Requirement already satisfied: requests<3,>=2.21.0 in /usr/local/lib/python3.6/dist-packages (from tensorboard<2.1.0,>=2.0.0->tensorflow==2.0.0) (2.21.0)\n",
            "Requirement already satisfied: google-auth-oauthlib<0.5,>=0.4.1 in /usr/local/lib/python3.6/dist-packages (from tensorboard<2.1.0,>=2.0.0->tensorflow==2.0.0) (0.4.1)\n",
            "Requirement already satisfied: markdown>=2.6.8 in /usr/local/lib/python3.6/dist-packages (from tensorboard<2.1.0,>=2.0.0->tensorflow==2.0.0) (3.2.1)\n",
            "Requirement already satisfied: google-auth<2,>=1.6.3 in /usr/local/lib/python3.6/dist-packages (from tensorboard<2.1.0,>=2.0.0->tensorflow==2.0.0) (1.7.2)\n",
            "Requirement already satisfied: werkzeug>=0.11.15 in /usr/local/lib/python3.6/dist-packages (from tensorboard<2.1.0,>=2.0.0->tensorflow==2.0.0) (1.0.0)\n",
            "Requirement already satisfied: certifi>=2017.4.17 in /usr/local/lib/python3.6/dist-packages (from requests<3,>=2.21.0->tensorboard<2.1.0,>=2.0.0->tensorflow==2.0.0) (2019.11.28)\n",
            "Requirement already satisfied: urllib3<1.25,>=1.21.1 in /usr/local/lib/python3.6/dist-packages (from requests<3,>=2.21.0->tensorboard<2.1.0,>=2.0.0->tensorflow==2.0.0) (1.24.3)\n",
            "Requirement already satisfied: chardet<3.1.0,>=3.0.2 in /usr/local/lib/python3.6/dist-packages (from requests<3,>=2.21.0->tensorboard<2.1.0,>=2.0.0->tensorflow==2.0.0) (3.0.4)\n",
            "Requirement already satisfied: idna<2.9,>=2.5 in /usr/local/lib/python3.6/dist-packages (from requests<3,>=2.21.0->tensorboard<2.1.0,>=2.0.0->tensorflow==2.0.0) (2.8)\n",
            "Requirement already satisfied: requests-oauthlib>=0.7.0 in /usr/local/lib/python3.6/dist-packages (from google-auth-oauthlib<0.5,>=0.4.1->tensorboard<2.1.0,>=2.0.0->tensorflow==2.0.0) (1.3.0)\n",
            "Requirement already satisfied: cachetools<3.2,>=2.0.0 in /usr/local/lib/python3.6/dist-packages (from google-auth<2,>=1.6.3->tensorboard<2.1.0,>=2.0.0->tensorflow==2.0.0) (3.1.1)\n",
            "Requirement already satisfied: rsa<4.1,>=3.1.4 in /usr/local/lib/python3.6/dist-packages (from google-auth<2,>=1.6.3->tensorboard<2.1.0,>=2.0.0->tensorflow==2.0.0) (4.0)\n",
            "Requirement already satisfied: pyasn1-modules>=0.2.1 in /usr/local/lib/python3.6/dist-packages (from google-auth<2,>=1.6.3->tensorboard<2.1.0,>=2.0.0->tensorflow==2.0.0) (0.2.8)\n",
            "Requirement already satisfied: oauthlib>=3.0.0 in /usr/local/lib/python3.6/dist-packages (from requests-oauthlib>=0.7.0->google-auth-oauthlib<0.5,>=0.4.1->tensorboard<2.1.0,>=2.0.0->tensorflow==2.0.0) (3.1.0)\n",
            "Requirement already satisfied: pyasn1>=0.1.3 in /usr/local/lib/python3.6/dist-packages (from rsa<4.1,>=3.1.4->google-auth<2,>=1.6.3->tensorboard<2.1.0,>=2.0.0->tensorflow==2.0.0) (0.4.8)\n",
            "Installing collected packages: tensorboard, tensorflow-estimator, tensorflow\n",
            "  Found existing installation: tensorboard 1.15.0\n",
            "    Uninstalling tensorboard-1.15.0:\n",
            "      Successfully uninstalled tensorboard-1.15.0\n",
            "  Found existing installation: tensorflow-estimator 1.15.1\n",
            "    Uninstalling tensorflow-estimator-1.15.1:\n",
            "      Successfully uninstalled tensorflow-estimator-1.15.1\n",
            "  Found existing installation: tensorflow 1.15.0\n",
            "    Uninstalling tensorflow-1.15.0:\n",
            "      Successfully uninstalled tensorflow-1.15.0\n",
            "Successfully installed tensorboard-2.0.2 tensorflow-2.0.0 tensorflow-estimator-2.0.1\n"
          ],
          "name": "stdout"
        },
        {
          "output_type": "display_data",
          "data": {
            "application/vnd.colab-display-data+json": {
              "pip_warning": {
                "packages": [
                  "tensorboard",
                  "tensorflow",
                  "tensorflow_core",
                  "tensorflow_estimator"
                ]
              }
            }
          },
          "metadata": {
            "tags": []
          }
        }
      ]
    },
    {
      "cell_type": "markdown",
      "metadata": {
        "colab_type": "text",
        "id": "UMZdLgyN7gby"
      },
      "source": [
        "## Create an MNIST Classifier\n",
        "\n",
        "We will start by creating a class called `MNIST`. This class will load the MNIST dataset, preprocess the images from the dataset, and build a CNN based classifier. This class will also have some methods to train, test, and save our model. \n",
        "\n",
        "In the cell below, fill in the missing code and create the following Keras `Sequential` model:\n",
        "\n",
        "```\n",
        "    Model: \"sequential\"\n",
        "    _________________________________________________________________\n",
        "    Layer (type)                 Output Shape              Param #   \n",
        "    =================================================================\n",
        "    lambda (Lambda)              (None, 28, 28, 1)         0         \n",
        "    _________________________________________________________________\n",
        "    conv2d (Conv2D)              (None, 28, 28, 8)         80        \n",
        "    _________________________________________________________________\n",
        "    max_pooling2d (MaxPooling2D) (None, 14, 14, 8)         0         \n",
        "    _________________________________________________________________\n",
        "    conv2d_1 (Conv2D)            (None, 14, 14, 16)        1168      \n",
        "    _________________________________________________________________\n",
        "    max_pooling2d_1 (MaxPooling2 (None, 7, 7, 16)          0         \n",
        "    _________________________________________________________________\n",
        "    conv2d_2 (Conv2D)            (None, 7, 7, 32)          4640      \n",
        "    _________________________________________________________________\n",
        "    flatten (Flatten)            (None, 1568)              0         \n",
        "    _________________________________________________________________\n",
        "    dense (Dense)                (None, 128)               200832    \n",
        "    _________________________________________________________________\n",
        "    dense_1 (Dense)              (None, 10)                1290      \n",
        "    =================================================================\n",
        "\n",
        "```\n",
        "\n",
        "Notice that we are using a ` tf.keras.layers.Lambda` layer at the beginning of our model. `Lambda` layers are used to wrap arbitrary expressions as a `Layer` object:\n",
        "\n",
        "```python\n",
        "tf.keras.layers.Lambda(expression)\n",
        "```\n",
        "\n",
        "The `Lambda` layer exists so that arbitrary TensorFlow functions can be used when constructing `Sequential` and Functional API models. `Lambda` layers are best suited for simple operations. "
      ]
    },
    {
      "cell_type": "code",
      "metadata": {
        "id": "JaqDRsHWjwyV",
        "colab_type": "code",
        "colab": {}
      },
      "source": [
        "class MNIST:\n",
        "    def __init__(self, export_path, buffer_size=1000, batch_size=32,\n",
        "                 learning_rate=1e-3, epochs=10):\n",
        "        self._export_path = export_path\n",
        "        self._buffer_size = buffer_size\n",
        "        self._batch_size = batch_size\n",
        "        self._learning_rate = learning_rate\n",
        "        self._epochs = epochs\n",
        "    \n",
        "        self._build_model()\n",
        "        self.train_dataset, self.test_dataset = self._prepare_dataset()\n",
        "    \n",
        "    # Function to preprocess the images.\n",
        "    def preprocess_fn(self, x):\n",
        "        \n",
        "        # EXERCISE: Cast x to tf.float32 using the tf.cast() function.\n",
        "        # You should also normalize the values of x to be in the range [0, 1].\n",
        "        x = tf.cast(x,tf.float32)/255.0\n",
        "        # YOUR CODE HERE\n",
        "            \n",
        "        return x\n",
        "        \n",
        "    def _build_model(self):\n",
        "        \n",
        "        # EXERCISE: Build the model according to the model summary shown above.\n",
        "        self._model = tf.keras.models.Sequential([\n",
        "            tf.keras.layers.Input(shape=(28, 28, 1), dtype=tf.uint8),\n",
        "            \n",
        "            # Use a Lambda layer to use the self.preprocess_fn function\n",
        "            # defined above to preprocess the images.\n",
        "            # YOUR CODE HERE\n",
        "            tf.keras.layers.Lambda(self.preprocess_fn),\n",
        "            # Create a Conv2D layer with 8 filters, a kernel size of 3\n",
        "            # and padding='same'.\n",
        "            # YOUR CODE HERE\n",
        "            tf.keras.layers.Conv2D(8,kernel_size=3,padding='same',activation='relu'),\n",
        "            # Create a MaxPool2D() layer. Use default values.\n",
        "            # YOUR CODE HERE\n",
        "            tf.keras.layers.MaxPool2D(),\n",
        "            # Create a Conv2D layer with 16 filters, a kernel size of 3\n",
        "            # and padding='same'.\n",
        "            # YOUR CODE HERE\n",
        "            tf.keras.layers.Conv2D(16,kernel_size=3,padding='same',activation='relu'),\n",
        "            # Create a MaxPool2D() layer. Use default values.\n",
        "            # YOUR CODE HERE\n",
        "            tf.keras.layers.MaxPool2D(),\n",
        "            # Create a Conv2D layer with 32 filters, a kernel size of 3\n",
        "            # and padding='same'.\n",
        "            # YOUR CODE HERE\n",
        "            tf.keras.layers.Conv2D(32,kernel_size=3,padding='same',activation='relu'),\n",
        "            # Create the Flatten and Dense layers as described in the \n",
        "            # model summary shown above.\n",
        "            # YOUR CODE HERE\n",
        "            tf.keras.layers.Flatten(),\n",
        "            tf.keras.layers.Dense(128,activation='relu'),\n",
        "            tf.keras.layers.Dense(10,activation='softmax')\n",
        "        ])\n",
        "        \n",
        "        # EXERCISE: Define the optimizer, loss function and metrics.\n",
        "        \n",
        "        # Use the tf.keras.optimizers.Adam optimizer and set the\n",
        "        # learning rate to self._learning_rate.\n",
        "        optimizer_fn = tf.keras.optimizers.Adam(learning_rate=self._learning_rate)# YOUR CODE HERE\n",
        "        \n",
        "        # Use sparse_categorical_crossentropy as your loss function.\n",
        "        loss_fn = 'sparse_categorical_crossentropy'# YOUR CODE HERE\n",
        "        \n",
        "        # Set the metrics to accuracy.\n",
        "        metrics_list = ['accuracy']# YOUR CODE HERE\n",
        "     \n",
        "        # Compile the model.\n",
        "        self._model.compile(optimizer=optimizer_fn, \n",
        "                            loss=loss_fn, \n",
        "                            metrics=metrics_list)\n",
        "        \n",
        "    def _prepare_dataset(self):\n",
        "        \n",
        "        filePath = f\"{getcwd()}/../tmp2\"\n",
        "        \n",
        "        # EXERCISE: Load the MNIST dataset using tfds.load(). Make sure to use\n",
        "        # the argument data_dir=filePath. You should load the images as well\n",
        "        # as their corresponding labels and load both the test and train splits.\n",
        "        dataset = tfds.load(name='mnist',data_dir=filePath, as_supervised=True)# YOUR CODE HERE\n",
        "        \n",
        "        # EXERCISE: Extract the 'train' and 'test' splits from the dataset above.\n",
        "        train_dataset, test_dataset = dataset['train'], dataset['test']# YOUR CODE HERE\n",
        "        \n",
        "        return train_dataset, test_dataset\n",
        "    \n",
        "    def train(self):\n",
        "        \n",
        "        # EXERCISE: Shuffle and batch the self.train_dataset. Use self._buffer_size\n",
        "        # as the shuffling buffer and self._batch_size as the batch size for batching. \n",
        "        dataset_tr = self.train_dataset.shuffle(self._buffer_size).batch(self._batch_size)# YOUR CODE HERE\n",
        "        \n",
        "        # Train the model for specified number of epochs.\n",
        "        self._model.fit(dataset_tr, epochs=self._epochs)\n",
        "        \n",
        "    def test(self):\n",
        "        \n",
        "        # EXERCISE: Batch the self.test_dataset. Use a batch size of 32.\n",
        "        dataset_te = self.test_dataset.batch(32)# YOUR CODE HERE\n",
        "        \n",
        "        # Evaluate the dataset\n",
        "        results = self._model.evaluate(dataset_te)\n",
        "    \n",
        "        # Print the metric values on which the model is being evaluated on.\n",
        "        for name, value in zip(self._model.metrics_names, results):\n",
        "            print(\"%s: %.3f\" % (name, value))\n",
        "            \n",
        "    def export_model(self):\n",
        "        # Save the model.\n",
        "        tf.saved_model.save(self._model, self._export_path)"
      ],
      "execution_count": 0,
      "outputs": []
    },
    {
      "cell_type": "markdown",
      "metadata": {
        "colab_type": "text",
        "id": "-dDAjgDe7lp4"
      },
      "source": [
        "## Train, Evaluate, and Save the Model\n",
        "\n",
        "We will now use the `MNIST` class we created above to create an `mnist` object. When creating our `mnist` object we will use a dictionary to pass our training parameters. We will then call the `train` and `export_model` methods to train and save our model, respectively. Finally, we call the `test` method to evaluate our model after training. \n",
        "\n",
        "**NOTE:** It will take about 12 minutes to train the model for 5 epochs."
      ]
    },
    {
      "cell_type": "code",
      "metadata": {
        "colab_type": "code",
        "id": "w6Ba6ileois3",
        "outputId": "ed7b0c8c-4e09-40d8-b624-a107a17cc88d",
        "colab": {
          "base_uri": "https://localhost:8080/",
          "height": 394
        }
      },
      "source": [
        "# Define the training parameters.\n",
        "args = {'export_path': './saved_model',\n",
        "        'buffer_size': 1000,\n",
        "        'batch_size': 32,\n",
        "        'learning_rate': 1e-3,\n",
        "        'epochs': 5\n",
        "}\n",
        "\n",
        "# Create the mnist object. \n",
        "mnist = MNIST(**args)\n",
        "\n",
        "# Train the model.\n",
        "mnist.train()\n",
        "\n",
        "# Save the model.\n",
        "mnist.export_model()\n",
        "\n",
        "# Evaluate the trained MNIST model.\n",
        "mnist.test()"
      ],
      "execution_count": 0,
      "outputs": [
        {
          "output_type": "stream",
          "text": [
            "Epoch 1/5\n",
            "1875/1875 [==============================] - 45s 24ms/step - loss: 0.1439 - accuracy: 0.9552\n",
            "Epoch 2/5\n",
            "1875/1875 [==============================] - 41s 22ms/step - loss: 0.0470 - accuracy: 0.9856\n",
            "Epoch 3/5\n",
            "1875/1875 [==============================] - 41s 22ms/step - loss: 0.0343 - accuracy: 0.9890\n",
            "Epoch 4/5\n",
            "1875/1875 [==============================] - 41s 22ms/step - loss: 0.0245 - accuracy: 0.9924\n",
            "Epoch 5/5\n",
            "1875/1875 [==============================] - 41s 22ms/step - loss: 0.0198 - accuracy: 0.9937\n",
            "WARNING:tensorflow:From /usr/local/lib/python3.6/dist-packages/tensorflow_core/python/ops/resource_variable_ops.py:1781: calling BaseResourceVariable.__init__ (from tensorflow.python.ops.resource_variable_ops) with constraint is deprecated and will be removed in a future version.\n",
            "Instructions for updating:\n",
            "If using Keras pass *_constraint arguments to layers.\n"
          ],
          "name": "stdout"
        },
        {
          "output_type": "stream",
          "text": [
            "WARNING:tensorflow:From /usr/local/lib/python3.6/dist-packages/tensorflow_core/python/ops/resource_variable_ops.py:1781: calling BaseResourceVariable.__init__ (from tensorflow.python.ops.resource_variable_ops) with constraint is deprecated and will be removed in a future version.\n",
            "Instructions for updating:\n",
            "If using Keras pass *_constraint arguments to layers.\n"
          ],
          "name": "stderr"
        },
        {
          "output_type": "stream",
          "text": [
            "INFO:tensorflow:Assets written to: ./saved_model/assets\n"
          ],
          "name": "stdout"
        },
        {
          "output_type": "stream",
          "text": [
            "INFO:tensorflow:Assets written to: ./saved_model/assets\n"
          ],
          "name": "stderr"
        },
        {
          "output_type": "stream",
          "text": [
            "313/313 [==============================] - 5s 15ms/step - loss: 0.0310 - accuracy: 0.9895\n",
            "loss: 0.031\n",
            "accuracy: 0.989\n"
          ],
          "name": "stdout"
        }
      ]
    },
    {
      "cell_type": "markdown",
      "metadata": {
        "colab_type": "text",
        "id": "sotJ7pQm7umV"
      },
      "source": [
        "## Create a Tarball\n",
        "\n",
        "The `export_model` method saved our model in the TensorFlow SavedModel format in the `./saved_model` directory. The SavedModel format saves our model and its weights in various files and directories. This makes it difficult to distribute our model. Therefore, it is convenient to create a single compressed file that contains all the files and folders of our model. To do this, we will use the `tar` archiving program to create a tarball (similar to a Zip file) that contains our SavedModel."
      ]
    },
    {
      "cell_type": "code",
      "metadata": {
        "id": "sa43COmijwyn",
        "colab_type": "code",
        "colab": {}
      },
      "source": [
        "# Create a tarball from the SavedModel.\n",
        "!tar -cz -f module.tar.gz -C ./saved_model ."
      ],
      "execution_count": 0,
      "outputs": []
    },
    {
      "cell_type": "markdown",
      "metadata": {
        "id": "BrU6K4_Ejwyt",
        "colab_type": "text"
      },
      "source": [
        "## Inspect the Tarball\n",
        "\n",
        "We can uncompress our tarball to make sure it has all the files and folders from our SavedModel."
      ]
    },
    {
      "cell_type": "code",
      "metadata": {
        "colab_type": "code",
        "id": "NknIrjE1ovkF",
        "outputId": "ddc951e1-5752-4cf2-9ab3-fd1852f9eec5",
        "colab": {
          "base_uri": "https://localhost:8080/",
          "height": 153
        }
      },
      "source": [
        "# Inspect the tarball.\n",
        "!tar -tf module.tar.gz"
      ],
      "execution_count": 0,
      "outputs": [
        {
          "output_type": "stream",
          "text": [
            "./\n",
            "./saved_model.pb\n",
            "./assets/\n",
            "./variables/\n",
            "./variables/variables.data-00001-of-00002\n",
            "./variables/variables.data-00000-of-00002\n",
            "./variables/variables.index\n",
            "./variables/variables.data-00000-of-00001\n"
          ],
          "name": "stdout"
        }
      ]
    },
    {
      "cell_type": "markdown",
      "metadata": {
        "colab_type": "text",
        "id": "n8LjCeO474N4"
      },
      "source": [
        "## Simulate Server Conditions\n",
        "\n",
        "Once we have verified our tarball, we can now simulate server conditions. In a normal scenario, we will fetch our TF Hub module from a remote server using the module's handle. However, since this notebook cannot host the server, we will instead point the module handle to the directory where our SavedModel is stored. "
      ]
    },
    {
      "cell_type": "code",
      "metadata": {
        "colab_type": "code",
        "id": "C-8vmmtVxJVF",
        "outputId": "6cf7a1f8-acab-49d8-8972-993a5942a25e",
        "colab": {
          "base_uri": "https://localhost:8080/",
          "height": 153
        }
      },
      "source": [
        "!rm -rf ./module\n",
        "!mkdir -p module\n",
        "!tar xvzf module.tar.gz -C ./module"
      ],
      "execution_count": 0,
      "outputs": [
        {
          "output_type": "stream",
          "text": [
            "./\n",
            "./saved_model.pb\n",
            "./assets/\n",
            "./variables/\n",
            "./variables/variables.data-00001-of-00002\n",
            "./variables/variables.data-00000-of-00002\n",
            "./variables/variables.index\n",
            "./variables/variables.data-00000-of-00001\n"
          ],
          "name": "stdout"
        }
      ]
    },
    {
      "cell_type": "code",
      "metadata": {
        "colab_type": "code",
        "id": "TSmU1oZgxJZS",
        "colab": {}
      },
      "source": [
        "# Define the module handle.\n",
        "MODULE_HANDLE = './module'"
      ],
      "execution_count": 0,
      "outputs": []
    },
    {
      "cell_type": "markdown",
      "metadata": {
        "id": "bUliVBkHjwzA",
        "colab_type": "text"
      },
      "source": [
        "## Load the TF Hub Module"
      ]
    },
    {
      "cell_type": "code",
      "metadata": {
        "colab_type": "code",
        "id": "b2lOfoKab5Rv",
        "colab": {}
      },
      "source": [
        "# EXERCISE: Load the TF Hub module using the hub.load API.\n",
        "model = hub.load(MODULE_HANDLE)# YOUR CODE HERE"
      ],
      "execution_count": 0,
      "outputs": []
    },
    {
      "cell_type": "markdown",
      "metadata": {
        "id": "bu1ndYv6jwzH",
        "colab_type": "text"
      },
      "source": [
        "## Test the TF Hub Module\n",
        "\n",
        "We will now test our TF Hub module with images from the `test` split of the MNIST dataset."
      ]
    },
    {
      "cell_type": "code",
      "metadata": {
        "colab_type": "code",
        "id": "dCmeWVj_ovno",
        "colab": {}
      },
      "source": [
        "filePath = f\"{getcwd()}/../tmp2\"\n",
        "\n",
        "# EXERCISE: Load the MNIST 'test' split using tfds.load().\n",
        "# Make sure to use the argument data_dir=filePath. You\n",
        "# should load the images along with their corresponding labels.\n",
        "\n",
        "dataset = tfds.load(name='mnist', split='test',data_dir=filePath, as_supervised=True)# YOUR CODE HERE\n",
        "\n",
        "# EXERCISE: Batch the dataset using a batch size of 32.\n",
        "test_dataset = dataset.batch(32)# YOUR CODE HERE"
      ],
      "execution_count": 0,
      "outputs": []
    },
    {
      "cell_type": "code",
      "metadata": {
        "id": "uCF8Y8pJF9nv",
        "colab_type": "code",
        "outputId": "450694b3-d4b9-4d5a-fbda-febb78ccb161",
        "colab": {
          "base_uri": "https://localhost:8080/",
          "height": 34
        }
      },
      "source": [
        "print(tf.__version__)"
      ],
      "execution_count": 0,
      "outputs": [
        {
          "output_type": "stream",
          "text": [
            "1.15.0\n"
          ],
          "name": "stdout"
        }
      ]
    },
    {
      "cell_type": "code",
      "metadata": {
        "colab_type": "code",
        "id": "wY9bVLTayn3H",
        "colab": {}
      },
      "source": [
        "# Test the TF Hub module for a single batch of data\n",
        "for batch_data in test_dataset.take(1):\n",
        "    outputs = model(batch_data[0])\n",
        "    outputs = np.argmax(outputs, axis=-1)\n",
        "    print('Predicted Labels:', outputs)\n",
        "    print('True Labels:     ', batch_data[1].numpy())"
      ],
      "execution_count": 0,
      "outputs": []
    },
    {
      "cell_type": "markdown",
      "metadata": {
        "id": "FiLQai-ZjwzR",
        "colab_type": "text"
      },
      "source": [
        "We can see that the model correctly predicts the labels for most images in the batch. "
      ]
    },
    {
      "cell_type": "markdown",
      "metadata": {
        "colab_type": "text",
        "id": "ciRPFhPg8FWH"
      },
      "source": [
        "## Evaluate the Model Using Keras\n",
        "\n",
        "In the cell below, you will integrate the TensorFlow Hub module into the high level Keras API."
      ]
    },
    {
      "cell_type": "code",
      "metadata": {
        "colab_type": "code",
        "id": "YMjnPFOjxmus",
        "colab": {}
      },
      "source": [
        "# EXERCISE: Integrate the TensorFlow Hub module into a Keras\n",
        "# sequential model. You should use a hub.KerasLayer and you \n",
        "# should make sure to use the correct values for the output_shape,\n",
        "# and input_shape parameters. You should also use tf.uint8 for\n",
        "# the dtype parameter.\n",
        "\n",
        "model = tf.keras.Sequential([\n",
        "    hub.KerasLayer(MODULE_HANDLE, input_shape=(28,28,1),dtype=tf.uint8),\n",
        "])\n",
        "# Compile the model.\n",
        "model.compile(optimizer='adam',\n",
        "              loss='sparse_categorical_crossentropy', \n",
        "              metrics=['accuracy'])"
      ],
      "execution_count": 0,
      "outputs": []
    },
    {
      "cell_type": "code",
      "metadata": {
        "colab_type": "code",
        "id": "ShGHxh0Wx7lW",
        "colab": {}
      },
      "source": [
        "# Evaluate the model on the test_dataset.\n",
        "results = model.evaluate(test_dataset)"
      ],
      "execution_count": 0,
      "outputs": []
    },
    {
      "cell_type": "code",
      "metadata": {
        "colab_type": "code",
        "id": "wZ6jUqbDx7s4",
        "colab": {}
      },
      "source": [
        "# Print the metric values on which the model is being evaluated on.\n",
        "for name, value in zip(model.metrics_names, results):\n",
        "    print(\"%s: %.3f\" % (name, value))"
      ],
      "execution_count": 0,
      "outputs": []
    },
    {
      "cell_type": "markdown",
      "metadata": {
        "id": "Q6qpBMswjwzl",
        "colab_type": "text"
      },
      "source": [
        "# Submission Instructions"
      ]
    },
    {
      "cell_type": "code",
      "metadata": {
        "id": "nj3ilRDejwzo",
        "colab_type": "code",
        "colab": {}
      },
      "source": [
        "# Now click the 'Submit Assignment' button above."
      ],
      "execution_count": 0,
      "outputs": []
    },
    {
      "cell_type": "markdown",
      "metadata": {
        "id": "wVEcpJ1mjwzr",
        "colab_type": "text"
      },
      "source": [
        "# When you're done or would like to take a break, please run the two cells below to save your work and close the Notebook. This frees up resources for your fellow learners."
      ]
    },
    {
      "cell_type": "code",
      "metadata": {
        "id": "CC5SFUaDjwzs",
        "colab_type": "code",
        "colab": {}
      },
      "source": [
        "%%javascript\n",
        "<!-- Save the notebook -->\n",
        "IPython.notebook.save_checkpoint();"
      ],
      "execution_count": 0,
      "outputs": []
    },
    {
      "cell_type": "code",
      "metadata": {
        "id": "NGOOJBxKjwzw",
        "colab_type": "code",
        "colab": {}
      },
      "source": [
        "%%javascript\n",
        "<!-- Shutdown and close the notebook -->\n",
        "window.onbeforeunload = null\n",
        "window.close();\n",
        "IPython.notebook.session.delete();"
      ],
      "execution_count": 0,
      "outputs": []
    }
  ]
}